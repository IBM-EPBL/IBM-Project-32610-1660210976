{
  "nbformat": 4,
  "nbformat_minor": 0,
  "metadata": {
    "colab": {
      "provenance": []
    },
    "kernelspec": {
      "name": "python3",
      "display_name": "Python 3"
    },
    "language_info": {
      "name": "python"
    }
  },
  "cells": [
    {
      "cell_type": "code",
      "execution_count": 10,
      "metadata": {
        "id": "jjd3gLczkCtx"
      },
      "outputs": [],
      "source": [
        "import pandas as pd\n",
        "import numpy as np\n",
        "import seaborn as sns\n",
        "import matplotlib.pyplot as plt\n",
        "from sklearn import preprocessing\n",
        "from sklearn import model_selection\n",
        "from sklearn import metrics \n",
        "from sklearn import linear_model\n",
        "from sklearn import ensemble\n",
        "from sklearn import tree\n",
        "from sklearn import svm\n",
        "import xgboost"
      ]
    },
    {
      "cell_type": "code",
      "source": [
        "from google.colab import files\n",
        "uploaded=files.upload()"
      ],
      "metadata": {
        "colab": {
          "base_uri": "https://localhost:8080/",
          "height": 73
        },
        "id": "P_0JGyD_kRJt",
        "outputId": "7a6794e4-30d1-48d7-9fa1-6e76c831ca17"
      },
      "execution_count": 2,
      "outputs": [
        {
          "output_type": "display_data",
          "data": {
            "text/plain": [
              "<IPython.core.display.HTML object>"
            ],
            "text/html": [
              "\n",
              "     <input type=\"file\" id=\"files-3b6df832-a420-47c4-adbf-943e8b85551b\" name=\"files[]\" multiple disabled\n",
              "        style=\"border:none\" />\n",
              "     <output id=\"result-3b6df832-a420-47c4-adbf-943e8b85551b\">\n",
              "      Upload widget is only available when the cell has been executed in the\n",
              "      current browser session. Please rerun this cell to enable.\n",
              "      </output>\n",
              "      <script>// Copyright 2017 Google LLC\n",
              "//\n",
              "// Licensed under the Apache License, Version 2.0 (the \"License\");\n",
              "// you may not use this file except in compliance with the License.\n",
              "// You may obtain a copy of the License at\n",
              "//\n",
              "//      http://www.apache.org/licenses/LICENSE-2.0\n",
              "//\n",
              "// Unless required by applicable law or agreed to in writing, software\n",
              "// distributed under the License is distributed on an \"AS IS\" BASIS,\n",
              "// WITHOUT WARRANTIES OR CONDITIONS OF ANY KIND, either express or implied.\n",
              "// See the License for the specific language governing permissions and\n",
              "// limitations under the License.\n",
              "\n",
              "/**\n",
              " * @fileoverview Helpers for google.colab Python module.\n",
              " */\n",
              "(function(scope) {\n",
              "function span(text, styleAttributes = {}) {\n",
              "  const element = document.createElement('span');\n",
              "  element.textContent = text;\n",
              "  for (const key of Object.keys(styleAttributes)) {\n",
              "    element.style[key] = styleAttributes[key];\n",
              "  }\n",
              "  return element;\n",
              "}\n",
              "\n",
              "// Max number of bytes which will be uploaded at a time.\n",
              "const MAX_PAYLOAD_SIZE = 100 * 1024;\n",
              "\n",
              "function _uploadFiles(inputId, outputId) {\n",
              "  const steps = uploadFilesStep(inputId, outputId);\n",
              "  const outputElement = document.getElementById(outputId);\n",
              "  // Cache steps on the outputElement to make it available for the next call\n",
              "  // to uploadFilesContinue from Python.\n",
              "  outputElement.steps = steps;\n",
              "\n",
              "  return _uploadFilesContinue(outputId);\n",
              "}\n",
              "\n",
              "// This is roughly an async generator (not supported in the browser yet),\n",
              "// where there are multiple asynchronous steps and the Python side is going\n",
              "// to poll for completion of each step.\n",
              "// This uses a Promise to block the python side on completion of each step,\n",
              "// then passes the result of the previous step as the input to the next step.\n",
              "function _uploadFilesContinue(outputId) {\n",
              "  const outputElement = document.getElementById(outputId);\n",
              "  const steps = outputElement.steps;\n",
              "\n",
              "  const next = steps.next(outputElement.lastPromiseValue);\n",
              "  return Promise.resolve(next.value.promise).then((value) => {\n",
              "    // Cache the last promise value to make it available to the next\n",
              "    // step of the generator.\n",
              "    outputElement.lastPromiseValue = value;\n",
              "    return next.value.response;\n",
              "  });\n",
              "}\n",
              "\n",
              "/**\n",
              " * Generator function which is called between each async step of the upload\n",
              " * process.\n",
              " * @param {string} inputId Element ID of the input file picker element.\n",
              " * @param {string} outputId Element ID of the output display.\n",
              " * @return {!Iterable<!Object>} Iterable of next steps.\n",
              " */\n",
              "function* uploadFilesStep(inputId, outputId) {\n",
              "  const inputElement = document.getElementById(inputId);\n",
              "  inputElement.disabled = false;\n",
              "\n",
              "  const outputElement = document.getElementById(outputId);\n",
              "  outputElement.innerHTML = '';\n",
              "\n",
              "  const pickedPromise = new Promise((resolve) => {\n",
              "    inputElement.addEventListener('change', (e) => {\n",
              "      resolve(e.target.files);\n",
              "    });\n",
              "  });\n",
              "\n",
              "  const cancel = document.createElement('button');\n",
              "  inputElement.parentElement.appendChild(cancel);\n",
              "  cancel.textContent = 'Cancel upload';\n",
              "  const cancelPromise = new Promise((resolve) => {\n",
              "    cancel.onclick = () => {\n",
              "      resolve(null);\n",
              "    };\n",
              "  });\n",
              "\n",
              "  // Wait for the user to pick the files.\n",
              "  const files = yield {\n",
              "    promise: Promise.race([pickedPromise, cancelPromise]),\n",
              "    response: {\n",
              "      action: 'starting',\n",
              "    }\n",
              "  };\n",
              "\n",
              "  cancel.remove();\n",
              "\n",
              "  // Disable the input element since further picks are not allowed.\n",
              "  inputElement.disabled = true;\n",
              "\n",
              "  if (!files) {\n",
              "    return {\n",
              "      response: {\n",
              "        action: 'complete',\n",
              "      }\n",
              "    };\n",
              "  }\n",
              "\n",
              "  for (const file of files) {\n",
              "    const li = document.createElement('li');\n",
              "    li.append(span(file.name, {fontWeight: 'bold'}));\n",
              "    li.append(span(\n",
              "        `(${file.type || 'n/a'}) - ${file.size} bytes, ` +\n",
              "        `last modified: ${\n",
              "            file.lastModifiedDate ? file.lastModifiedDate.toLocaleDateString() :\n",
              "                                    'n/a'} - `));\n",
              "    const percent = span('0% done');\n",
              "    li.appendChild(percent);\n",
              "\n",
              "    outputElement.appendChild(li);\n",
              "\n",
              "    const fileDataPromise = new Promise((resolve) => {\n",
              "      const reader = new FileReader();\n",
              "      reader.onload = (e) => {\n",
              "        resolve(e.target.result);\n",
              "      };\n",
              "      reader.readAsArrayBuffer(file);\n",
              "    });\n",
              "    // Wait for the data to be ready.\n",
              "    let fileData = yield {\n",
              "      promise: fileDataPromise,\n",
              "      response: {\n",
              "        action: 'continue',\n",
              "      }\n",
              "    };\n",
              "\n",
              "    // Use a chunked sending to avoid message size limits. See b/62115660.\n",
              "    let position = 0;\n",
              "    do {\n",
              "      const length = Math.min(fileData.byteLength - position, MAX_PAYLOAD_SIZE);\n",
              "      const chunk = new Uint8Array(fileData, position, length);\n",
              "      position += length;\n",
              "\n",
              "      const base64 = btoa(String.fromCharCode.apply(null, chunk));\n",
              "      yield {\n",
              "        response: {\n",
              "          action: 'append',\n",
              "          file: file.name,\n",
              "          data: base64,\n",
              "        },\n",
              "      };\n",
              "\n",
              "      let percentDone = fileData.byteLength === 0 ?\n",
              "          100 :\n",
              "          Math.round((position / fileData.byteLength) * 100);\n",
              "      percent.textContent = `${percentDone}% done`;\n",
              "\n",
              "    } while (position < fileData.byteLength);\n",
              "  }\n",
              "\n",
              "  // All done.\n",
              "  yield {\n",
              "    response: {\n",
              "      action: 'complete',\n",
              "    }\n",
              "  };\n",
              "}\n",
              "\n",
              "scope.google = scope.google || {};\n",
              "scope.google.colab = scope.google.colab || {};\n",
              "scope.google.colab._files = {\n",
              "  _uploadFiles,\n",
              "  _uploadFilesContinue,\n",
              "};\n",
              "})(self);\n",
              "</script> "
            ]
          },
          "metadata": {}
        },
        {
          "output_type": "stream",
          "name": "stdout",
          "text": [
            "Saving weather.csv to weather.csv\n"
          ]
        }
      ]
    },
    {
      "cell_type": "code",
      "source": [
        "data = pd.read_csv(\"weather.csv\")"
      ],
      "metadata": {
        "id": "qTnUsVFZkdgF"
      },
      "execution_count": 3,
      "outputs": []
    },
    {
      "cell_type": "code",
      "source": [
        "data = pd.read_csv(\"weather.csv\")\n",
        "data.head()"
      ],
      "metadata": {
        "id": "ALW42DR3ki9r"
      },
      "execution_count": 4,
      "outputs": []
    },
    {
      "cell_type": "code",
      "source": [
        "data.describe() "
      ],
      "metadata": {
        "colab": {
          "base_uri": "https://localhost:8080/",
          "height": 364
        },
        "id": "6TBoxR-GkpTv",
        "outputId": "14352a35-aaba-4d74-9f9a-aae7068f3dfd"
      },
      "execution_count": 5,
      "outputs": [
        {
          "output_type": "execute_result",
          "data": {
            "text/plain": [
              "          MinTemp     MaxTemp    Rainfall  Evaporation    Sunshine  \\\n",
              "count  366.000000  366.000000  366.000000   366.000000  363.000000   \n",
              "mean     7.265574   20.550273    1.428415     4.521858    7.909366   \n",
              "std      6.025800    6.690516    4.225800     2.669383    3.481517   \n",
              "min     -5.300000    7.600000    0.000000     0.200000    0.000000   \n",
              "25%      2.300000   15.025000    0.000000     2.200000    5.950000   \n",
              "50%      7.450000   19.650000    0.000000     4.200000    8.600000   \n",
              "75%     12.500000   25.500000    0.200000     6.400000   10.500000   \n",
              "max     20.900000   35.800000   39.800000    13.800000   13.600000   \n",
              "\n",
              "       WindGustSpeed  WindSpeed9am  WindSpeed3pm  Humidity9am  Humidity3pm  \\\n",
              "count     364.000000    359.000000    366.000000   366.000000   366.000000   \n",
              "mean       39.840659      9.651811     17.986339    72.035519    44.519126   \n",
              "std        13.059807      7.951929      8.856997    13.137058    16.850947   \n",
              "min        13.000000      0.000000      0.000000    36.000000    13.000000   \n",
              "25%        31.000000      6.000000     11.000000    64.000000    32.250000   \n",
              "50%        39.000000      7.000000     17.000000    72.000000    43.000000   \n",
              "75%        46.000000     13.000000     24.000000    81.000000    55.000000   \n",
              "max        98.000000     41.000000     52.000000    99.000000    96.000000   \n",
              "\n",
              "       Pressure9am  Pressure3pm    Cloud9am    Cloud3pm     Temp9am  \\\n",
              "count   366.000000   366.000000  366.000000  366.000000  366.000000   \n",
              "mean   1019.709016  1016.810383    3.890710    4.024590   12.358470   \n",
              "std       6.686212     6.469422    2.956131    2.666268    5.630832   \n",
              "min     996.500000   996.800000    0.000000    0.000000    0.100000   \n",
              "25%    1015.350000  1012.800000    1.000000    1.000000    7.625000   \n",
              "50%    1020.150000  1017.400000    3.500000    4.000000   12.550000   \n",
              "75%    1024.475000  1021.475000    7.000000    7.000000   17.000000   \n",
              "max    1035.700000  1033.200000    8.000000    8.000000   24.700000   \n",
              "\n",
              "          Temp3pm     RISK_MM  \n",
              "count  366.000000  366.000000  \n",
              "mean    19.230874    1.428415  \n",
              "std      6.640346    4.225800  \n",
              "min      5.100000    0.000000  \n",
              "25%     14.150000    0.000000  \n",
              "50%     18.550000    0.000000  \n",
              "75%     24.000000    0.200000  \n",
              "max     34.500000   39.800000  "
            ],
            "text/html": [
              "\n",
              "  <div id=\"df-193ca823-c54c-427f-9de6-71f0ba63cbf9\">\n",
              "    <div class=\"colab-df-container\">\n",
              "      <div>\n",
              "<style scoped>\n",
              "    .dataframe tbody tr th:only-of-type {\n",
              "        vertical-align: middle;\n",
              "    }\n",
              "\n",
              "    .dataframe tbody tr th {\n",
              "        vertical-align: top;\n",
              "    }\n",
              "\n",
              "    .dataframe thead th {\n",
              "        text-align: right;\n",
              "    }\n",
              "</style>\n",
              "<table border=\"1\" class=\"dataframe\">\n",
              "  <thead>\n",
              "    <tr style=\"text-align: right;\">\n",
              "      <th></th>\n",
              "      <th>MinTemp</th>\n",
              "      <th>MaxTemp</th>\n",
              "      <th>Rainfall</th>\n",
              "      <th>Evaporation</th>\n",
              "      <th>Sunshine</th>\n",
              "      <th>WindGustSpeed</th>\n",
              "      <th>WindSpeed9am</th>\n",
              "      <th>WindSpeed3pm</th>\n",
              "      <th>Humidity9am</th>\n",
              "      <th>Humidity3pm</th>\n",
              "      <th>Pressure9am</th>\n",
              "      <th>Pressure3pm</th>\n",
              "      <th>Cloud9am</th>\n",
              "      <th>Cloud3pm</th>\n",
              "      <th>Temp9am</th>\n",
              "      <th>Temp3pm</th>\n",
              "      <th>RISK_MM</th>\n",
              "    </tr>\n",
              "  </thead>\n",
              "  <tbody>\n",
              "    <tr>\n",
              "      <th>count</th>\n",
              "      <td>366.000000</td>\n",
              "      <td>366.000000</td>\n",
              "      <td>366.000000</td>\n",
              "      <td>366.000000</td>\n",
              "      <td>363.000000</td>\n",
              "      <td>364.000000</td>\n",
              "      <td>359.000000</td>\n",
              "      <td>366.000000</td>\n",
              "      <td>366.000000</td>\n",
              "      <td>366.000000</td>\n",
              "      <td>366.000000</td>\n",
              "      <td>366.000000</td>\n",
              "      <td>366.000000</td>\n",
              "      <td>366.000000</td>\n",
              "      <td>366.000000</td>\n",
              "      <td>366.000000</td>\n",
              "      <td>366.000000</td>\n",
              "    </tr>\n",
              "    <tr>\n",
              "      <th>mean</th>\n",
              "      <td>7.265574</td>\n",
              "      <td>20.550273</td>\n",
              "      <td>1.428415</td>\n",
              "      <td>4.521858</td>\n",
              "      <td>7.909366</td>\n",
              "      <td>39.840659</td>\n",
              "      <td>9.651811</td>\n",
              "      <td>17.986339</td>\n",
              "      <td>72.035519</td>\n",
              "      <td>44.519126</td>\n",
              "      <td>1019.709016</td>\n",
              "      <td>1016.810383</td>\n",
              "      <td>3.890710</td>\n",
              "      <td>4.024590</td>\n",
              "      <td>12.358470</td>\n",
              "      <td>19.230874</td>\n",
              "      <td>1.428415</td>\n",
              "    </tr>\n",
              "    <tr>\n",
              "      <th>std</th>\n",
              "      <td>6.025800</td>\n",
              "      <td>6.690516</td>\n",
              "      <td>4.225800</td>\n",
              "      <td>2.669383</td>\n",
              "      <td>3.481517</td>\n",
              "      <td>13.059807</td>\n",
              "      <td>7.951929</td>\n",
              "      <td>8.856997</td>\n",
              "      <td>13.137058</td>\n",
              "      <td>16.850947</td>\n",
              "      <td>6.686212</td>\n",
              "      <td>6.469422</td>\n",
              "      <td>2.956131</td>\n",
              "      <td>2.666268</td>\n",
              "      <td>5.630832</td>\n",
              "      <td>6.640346</td>\n",
              "      <td>4.225800</td>\n",
              "    </tr>\n",
              "    <tr>\n",
              "      <th>min</th>\n",
              "      <td>-5.300000</td>\n",
              "      <td>7.600000</td>\n",
              "      <td>0.000000</td>\n",
              "      <td>0.200000</td>\n",
              "      <td>0.000000</td>\n",
              "      <td>13.000000</td>\n",
              "      <td>0.000000</td>\n",
              "      <td>0.000000</td>\n",
              "      <td>36.000000</td>\n",
              "      <td>13.000000</td>\n",
              "      <td>996.500000</td>\n",
              "      <td>996.800000</td>\n",
              "      <td>0.000000</td>\n",
              "      <td>0.000000</td>\n",
              "      <td>0.100000</td>\n",
              "      <td>5.100000</td>\n",
              "      <td>0.000000</td>\n",
              "    </tr>\n",
              "    <tr>\n",
              "      <th>25%</th>\n",
              "      <td>2.300000</td>\n",
              "      <td>15.025000</td>\n",
              "      <td>0.000000</td>\n",
              "      <td>2.200000</td>\n",
              "      <td>5.950000</td>\n",
              "      <td>31.000000</td>\n",
              "      <td>6.000000</td>\n",
              "      <td>11.000000</td>\n",
              "      <td>64.000000</td>\n",
              "      <td>32.250000</td>\n",
              "      <td>1015.350000</td>\n",
              "      <td>1012.800000</td>\n",
              "      <td>1.000000</td>\n",
              "      <td>1.000000</td>\n",
              "      <td>7.625000</td>\n",
              "      <td>14.150000</td>\n",
              "      <td>0.000000</td>\n",
              "    </tr>\n",
              "    <tr>\n",
              "      <th>50%</th>\n",
              "      <td>7.450000</td>\n",
              "      <td>19.650000</td>\n",
              "      <td>0.000000</td>\n",
              "      <td>4.200000</td>\n",
              "      <td>8.600000</td>\n",
              "      <td>39.000000</td>\n",
              "      <td>7.000000</td>\n",
              "      <td>17.000000</td>\n",
              "      <td>72.000000</td>\n",
              "      <td>43.000000</td>\n",
              "      <td>1020.150000</td>\n",
              "      <td>1017.400000</td>\n",
              "      <td>3.500000</td>\n",
              "      <td>4.000000</td>\n",
              "      <td>12.550000</td>\n",
              "      <td>18.550000</td>\n",
              "      <td>0.000000</td>\n",
              "    </tr>\n",
              "    <tr>\n",
              "      <th>75%</th>\n",
              "      <td>12.500000</td>\n",
              "      <td>25.500000</td>\n",
              "      <td>0.200000</td>\n",
              "      <td>6.400000</td>\n",
              "      <td>10.500000</td>\n",
              "      <td>46.000000</td>\n",
              "      <td>13.000000</td>\n",
              "      <td>24.000000</td>\n",
              "      <td>81.000000</td>\n",
              "      <td>55.000000</td>\n",
              "      <td>1024.475000</td>\n",
              "      <td>1021.475000</td>\n",
              "      <td>7.000000</td>\n",
              "      <td>7.000000</td>\n",
              "      <td>17.000000</td>\n",
              "      <td>24.000000</td>\n",
              "      <td>0.200000</td>\n",
              "    </tr>\n",
              "    <tr>\n",
              "      <th>max</th>\n",
              "      <td>20.900000</td>\n",
              "      <td>35.800000</td>\n",
              "      <td>39.800000</td>\n",
              "      <td>13.800000</td>\n",
              "      <td>13.600000</td>\n",
              "      <td>98.000000</td>\n",
              "      <td>41.000000</td>\n",
              "      <td>52.000000</td>\n",
              "      <td>99.000000</td>\n",
              "      <td>96.000000</td>\n",
              "      <td>1035.700000</td>\n",
              "      <td>1033.200000</td>\n",
              "      <td>8.000000</td>\n",
              "      <td>8.000000</td>\n",
              "      <td>24.700000</td>\n",
              "      <td>34.500000</td>\n",
              "      <td>39.800000</td>\n",
              "    </tr>\n",
              "  </tbody>\n",
              "</table>\n",
              "</div>\n",
              "      <button class=\"colab-df-convert\" onclick=\"convertToInteractive('df-193ca823-c54c-427f-9de6-71f0ba63cbf9')\"\n",
              "              title=\"Convert this dataframe to an interactive table.\"\n",
              "              style=\"display:none;\">\n",
              "        \n",
              "  <svg xmlns=\"http://www.w3.org/2000/svg\" height=\"24px\"viewBox=\"0 0 24 24\"\n",
              "       width=\"24px\">\n",
              "    <path d=\"M0 0h24v24H0V0z\" fill=\"none\"/>\n",
              "    <path d=\"M18.56 5.44l.94 2.06.94-2.06 2.06-.94-2.06-.94-.94-2.06-.94 2.06-2.06.94zm-11 1L8.5 8.5l.94-2.06 2.06-.94-2.06-.94L8.5 2.5l-.94 2.06-2.06.94zm10 10l.94 2.06.94-2.06 2.06-.94-2.06-.94-.94-2.06-.94 2.06-2.06.94z\"/><path d=\"M17.41 7.96l-1.37-1.37c-.4-.4-.92-.59-1.43-.59-.52 0-1.04.2-1.43.59L10.3 9.45l-7.72 7.72c-.78.78-.78 2.05 0 2.83L4 21.41c.39.39.9.59 1.41.59.51 0 1.02-.2 1.41-.59l7.78-7.78 2.81-2.81c.8-.78.8-2.07 0-2.86zM5.41 20L4 18.59l7.72-7.72 1.47 1.35L5.41 20z\"/>\n",
              "  </svg>\n",
              "      </button>\n",
              "      \n",
              "  <style>\n",
              "    .colab-df-container {\n",
              "      display:flex;\n",
              "      flex-wrap:wrap;\n",
              "      gap: 12px;\n",
              "    }\n",
              "\n",
              "    .colab-df-convert {\n",
              "      background-color: #E8F0FE;\n",
              "      border: none;\n",
              "      border-radius: 50%;\n",
              "      cursor: pointer;\n",
              "      display: none;\n",
              "      fill: #1967D2;\n",
              "      height: 32px;\n",
              "      padding: 0 0 0 0;\n",
              "      width: 32px;\n",
              "    }\n",
              "\n",
              "    .colab-df-convert:hover {\n",
              "      background-color: #E2EBFA;\n",
              "      box-shadow: 0px 1px 2px rgba(60, 64, 67, 0.3), 0px 1px 3px 1px rgba(60, 64, 67, 0.15);\n",
              "      fill: #174EA6;\n",
              "    }\n",
              "\n",
              "    [theme=dark] .colab-df-convert {\n",
              "      background-color: #3B4455;\n",
              "      fill: #D2E3FC;\n",
              "    }\n",
              "\n",
              "    [theme=dark] .colab-df-convert:hover {\n",
              "      background-color: #434B5C;\n",
              "      box-shadow: 0px 1px 3px 1px rgba(0, 0, 0, 0.15);\n",
              "      filter: drop-shadow(0px 1px 2px rgba(0, 0, 0, 0.3));\n",
              "      fill: #FFFFFF;\n",
              "    }\n",
              "  </style>\n",
              "\n",
              "      <script>\n",
              "        const buttonEl =\n",
              "          document.querySelector('#df-193ca823-c54c-427f-9de6-71f0ba63cbf9 button.colab-df-convert');\n",
              "        buttonEl.style.display =\n",
              "          google.colab.kernel.accessAllowed ? 'block' : 'none';\n",
              "\n",
              "        async function convertToInteractive(key) {\n",
              "          const element = document.querySelector('#df-193ca823-c54c-427f-9de6-71f0ba63cbf9');\n",
              "          const dataTable =\n",
              "            await google.colab.kernel.invokeFunction('convertToInteractive',\n",
              "                                                     [key], {});\n",
              "          if (!dataTable) return;\n",
              "\n",
              "          const docLinkHtml = 'Like what you see? Visit the ' +\n",
              "            '<a target=\"_blank\" href=https://colab.research.google.com/notebooks/data_table.ipynb>data table notebook</a>'\n",
              "            + ' to learn more about interactive tables.';\n",
              "          element.innerHTML = '';\n",
              "          dataTable['output_type'] = 'display_data';\n",
              "          await google.colab.output.renderOutput(dataTable, element);\n",
              "          const docLink = document.createElement('div');\n",
              "          docLink.innerHTML = docLinkHtml;\n",
              "          element.appendChild(docLink);\n",
              "        }\n",
              "      </script>\n",
              "    </div>\n",
              "  </div>\n",
              "  "
            ]
          },
          "metadata": {},
          "execution_count": 5
        }
      ]
    },
    {
      "cell_type": "code",
      "source": [
        "data.info()"
      ],
      "metadata": {
        "colab": {
          "base_uri": "https://localhost:8080/"
        },
        "id": "uoF5Vwkgkwpw",
        "outputId": "dae83980-811e-43ea-ac78-3676d747f596"
      },
      "execution_count": 6,
      "outputs": [
        {
          "output_type": "stream",
          "name": "stdout",
          "text": [
            "<class 'pandas.core.frame.DataFrame'>\n",
            "RangeIndex: 366 entries, 0 to 365\n",
            "Data columns (total 22 columns):\n",
            " #   Column         Non-Null Count  Dtype  \n",
            "---  ------         --------------  -----  \n",
            " 0   MinTemp        366 non-null    float64\n",
            " 1   MaxTemp        366 non-null    float64\n",
            " 2   Rainfall       366 non-null    float64\n",
            " 3   Evaporation    366 non-null    float64\n",
            " 4   Sunshine       363 non-null    float64\n",
            " 5   WindGustDir    363 non-null    object \n",
            " 6   WindGustSpeed  364 non-null    float64\n",
            " 7   WindDir9am     335 non-null    object \n",
            " 8   WindDir3pm     365 non-null    object \n",
            " 9   WindSpeed9am   359 non-null    float64\n",
            " 10  WindSpeed3pm   366 non-null    int64  \n",
            " 11  Humidity9am    366 non-null    int64  \n",
            " 12  Humidity3pm    366 non-null    int64  \n",
            " 13  Pressure9am    366 non-null    float64\n",
            " 14  Pressure3pm    366 non-null    float64\n",
            " 15  Cloud9am       366 non-null    int64  \n",
            " 16  Cloud3pm       366 non-null    int64  \n",
            " 17  Temp9am        366 non-null    float64\n",
            " 18  Temp3pm        366 non-null    float64\n",
            " 19  RainToday      366 non-null    object \n",
            " 20  RISK_MM        366 non-null    float64\n",
            " 21  RainTomorrow   366 non-null    object \n",
            "dtypes: float64(12), int64(5), object(5)\n",
            "memory usage: 63.0+ KB\n"
          ]
        }
      ]
    },
    {
      "cell_type": "code",
      "source": [
        "data.shape"
      ],
      "metadata": {
        "colab": {
          "base_uri": "https://localhost:8080/"
        },
        "id": "kQi25dD6kzKD",
        "outputId": "ebeb7aff-07b8-4424-d881-35131dafbcf5"
      },
      "execution_count": 7,
      "outputs": [
        {
          "output_type": "execute_result",
          "data": {
            "text/plain": [
              "(366, 22)"
            ]
          },
          "metadata": {},
          "execution_count": 7
        }
      ]
    },
    {
      "cell_type": "code",
      "source": [
        "data.isnull().sum()"
      ],
      "metadata": {
        "colab": {
          "base_uri": "https://localhost:8080/"
        },
        "id": "s-g75Uk8k1Lh",
        "outputId": "6a0f9a83-09ba-417c-8e3e-cadafccac025"
      },
      "execution_count": 8,
      "outputs": [
        {
          "output_type": "execute_result",
          "data": {
            "text/plain": [
              "MinTemp           0\n",
              "MaxTemp           0\n",
              "Rainfall          0\n",
              "Evaporation       0\n",
              "Sunshine          3\n",
              "WindGustDir       3\n",
              "WindGustSpeed     2\n",
              "WindDir9am       31\n",
              "WindDir3pm        1\n",
              "WindSpeed9am      7\n",
              "WindSpeed3pm      0\n",
              "Humidity9am       0\n",
              "Humidity3pm       0\n",
              "Pressure9am       0\n",
              "Pressure3pm       0\n",
              "Cloud9am          0\n",
              "Cloud3pm          0\n",
              "Temp9am           0\n",
              "Temp3pm           0\n",
              "RainToday         0\n",
              "RISK_MM           0\n",
              "RainTomorrow      0\n",
              "dtype: int64"
            ]
          },
          "metadata": {},
          "execution_count": 8
        }
      ]
    },
    {
      "cell_type": "code",
      "source": [
        "import pandas as pd\n",
        "import numpy as np\n",
        "import seaborn as sns\n",
        "import matplotlib.pyplot as plt\n",
        "from sklearn import preprocessing\n",
        "from sklearn import model_selection\n",
        "from sklearn import metrics \n",
        "from sklearn import linear_model\n",
        "from sklearn import ensemble\n",
        "from sklearn import tree\n",
        "from sklearn import svm\n",
        "import xgboost"
      ],
      "metadata": {
        "id": "OTlE8ZsWlRQn"
      },
      "execution_count": 12,
      "outputs": []
    },
    {
      "cell_type": "code",
      "source": [
        "import missingno as msno \n",
        "msno.matrix(data, color= (0.55, 0.255, 0.225), fontsize=16)"
      ],
      "metadata": {
        "colab": {
          "base_uri": "https://localhost:8080/",
          "height": 606
        },
        "id": "-jwrZ-cIlU49",
        "outputId": "ee118062-9e47-427e-a242-919ace2072bf"
      },
      "execution_count": 13,
      "outputs": [
        {
          "output_type": "execute_result",
          "data": {
            "text/plain": [
              "<matplotlib.axes._subplots.AxesSubplot at 0x7f08abdbb910>"
            ]
          },
          "metadata": {},
          "execution_count": 13
        },
        {
          "output_type": "display_data",
          "data": {
            "text/plain": [
              "<Figure size 1800x720 with 2 Axes>"
            ],
            "image/png": "[encoded data removed]"
          },
          "metadata": {
            "needs_background": "light"
          }
        }
      ]
    },
    {
      "cell_type": "code",
      "source": [
        "data_cat = data[['RainToday', 'WindGustDir', 'WindDir9am', 'WindDir3pm']] \n",
        "data.drop(columns=['Evaporation', 'Sunshine', 'Cloud9am', 'Cloud3pm'] ,axis=1, inplace=True)\n",
        "data.drop(columns=['RainToday', 'WindGustDir', 'WindDir9am', 'WindDir3pm'] ,axis=1, inplace=True)"
      ],
      "metadata": {
        "id": "SjQijc1WlZ2z"
      },
      "execution_count": 14,
      "outputs": []
    },
    {
      "cell_type": "code",
      "source": [
        "data['MinTemp'].fillna (data['MinTemp'].mean(), inplace=True)\n",
        "data['MaxTemp'].fillna(data['MaxTemp'].mean(), inplace=True)\n",
        "data['Rainfall'].fillna (data['Rainfall'].mean(), inplace=True)\n",
        "data['WindGustSpeed'].fillna (data['WindGustSpeed'].mean(), inplace=True) \n",
        "data['WindSpeed9am'].fillna (data['WindSpeed9am'].mean(), inplace=True)\n",
        "data['WindSpeed3pm' ].fillna (data['WindSpeed3pm'].mean(), inplace=True)\n",
        "data['Humidity9am'].fillna (data['Humidity9am'].mean(), inplace=True) \n",
        "data['Humidity3pm'].fillna (data['Humidity3pm'].mean(), inplace=True)\n",
        "data['Pressure9am' ].fillna (data['Pressure9am'].mean(), inplace=True) \n",
        "data['Pressure3pm' ].fillna (data[ 'Pressure3pm'].mean(), inplace=True)\n",
        "data['Temp9am'].fillna (data['Temp9am']. mean(), inplace=True)\n",
        "data['Temp3pm' ].fillna(data['Temp3pm'].mean(), inplace=True)"
      ],
      "metadata": {
        "id": "t7svhvuXldUv"
      },
      "execution_count": 15,
      "outputs": []
    },
    {
      "cell_type": "code",
      "source": [
        "data.corr()"
      ],
      "metadata": {
        "colab": {
          "base_uri": "https://localhost:8080/",
          "height": 646
        },
        "id": "xs8TXD5OlsJD",
        "outputId": "be16c032-4069-4628-83dc-9e0e3778e54b"
      },
      "execution_count": 19,
      "outputs": [
        {
          "output_type": "execute_result",
          "data": {
            "text/plain": [
              "                MinTemp   MaxTemp  Rainfall  Evaporation  Sunshine  \\\n",
              "MinTemp        1.000000  0.752471  0.201939     0.649930  0.035711   \n",
              "MaxTemp        0.752471  1.000000 -0.073560     0.690026  0.452064   \n",
              "Rainfall       0.201939 -0.073560  1.000000    -0.007293 -0.150990   \n",
              "Evaporation    0.649930  0.690026 -0.007293     1.000000  0.318025   \n",
              "Sunshine       0.035711  0.452064 -0.150990     0.318025  1.000000   \n",
              "WindGustSpeed  0.218020  0.109672  0.096190     0.288477  0.095843   \n",
              "WindSpeed9am   0.127542 -0.216814  0.219637     0.068929 -0.064522   \n",
              "WindSpeed3pm  -0.065922 -0.167873  0.056008     0.048601  0.072573   \n",
              "Humidity9am   -0.207897 -0.359602  0.150109    -0.519587 -0.499017   \n",
              "Humidity3pm   -0.040709 -0.533327  0.289013    -0.391780 -0.759429   \n",
              "Pressure9am   -0.501707 -0.290883 -0.331581    -0.381906  0.006276   \n",
              "Pressure3pm   -0.498007 -0.379394 -0.250218    -0.391093 -0.036201   \n",
              "Cloud9am       0.215776 -0.175730  0.180046    -0.106007 -0.681092   \n",
              "Cloud3pm       0.118397 -0.135991  0.127792    -0.100045 -0.661131   \n",
              "Temp9am        0.916745  0.870604  0.077299     0.707676  0.219509   \n",
              "Temp3pm        0.722730  0.989261 -0.087493     0.671632  0.470447   \n",
              "RISK_MM        0.218551  0.027557  0.089860     0.076762 -0.378823   \n",
              "\n",
              "               WindGustSpeed  WindSpeed9am  WindSpeed3pm  Humidity9am  \\\n",
              "MinTemp             0.218020      0.127542     -0.065922    -0.207897   \n",
              "MaxTemp             0.109672     -0.216814     -0.167873    -0.359602   \n",
              "Rainfall            0.096190      0.219637      0.056008     0.150109   \n",
              "Evaporation         0.288477      0.068929      0.048601    -0.519587   \n",
              "Sunshine            0.095843     -0.064522      0.072573    -0.499017   \n",
              "WindGustSpeed       1.000000      0.527653      0.693945    -0.349793   \n",
              "WindSpeed9am        0.527653      1.000000      0.472966    -0.270623   \n",
              "WindSpeed3pm        0.693945      0.472966      1.000000    -0.266092   \n",
              "Humidity9am        -0.349793     -0.270623     -0.266092     1.000000   \n",
              "Humidity3pm        -0.069439      0.146657     -0.026368     0.546718   \n",
              "Pressure9am        -0.540180     -0.356332     -0.359800     0.135727   \n",
              "Pressure3pm        -0.526885     -0.247952     -0.337325     0.134420   \n",
              "Cloud9am           -0.012666      0.101842     -0.026426     0.392842   \n",
              "Cloud3pm            0.050230     -0.022471      0.007207     0.271938   \n",
              "Temp9am             0.256223      0.064074     -0.017766    -0.436551   \n",
              "Temp3pm             0.072501     -0.235186     -0.187570    -0.355119   \n",
              "RISK_MM             0.251991      0.039091     -0.009447     0.165931   \n",
              "\n",
              "               Humidity3pm  Pressure9am  Pressure3pm  Cloud9am  Cloud3pm  \\\n",
              "MinTemp          -0.040709    -0.501707    -0.498007  0.215776  0.118397   \n",
              "MaxTemp          -0.533327    -0.290883    -0.379394 -0.175730 -0.135991   \n",
              "Rainfall          0.289013    -0.331581    -0.250218  0.180046  0.127792   \n",
              "Evaporation      -0.391780    -0.381906    -0.391093 -0.106007 -0.100045   \n",
              "Sunshine         -0.759429     0.006276    -0.036201 -0.681092 -0.661131   \n",
              "WindGustSpeed    -0.069439    -0.540180    -0.526885 -0.012666  0.050230   \n",
              "WindSpeed9am      0.146657    -0.356332    -0.247952  0.101842 -0.022471   \n",
              "WindSpeed3pm     -0.026368    -0.359800    -0.337325 -0.026426  0.007207   \n",
              "Humidity9am       0.546718     0.135727     0.134420  0.392842  0.271938   \n",
              "Humidity3pm       1.000000    -0.087946    -0.010052  0.551633  0.510108   \n",
              "Pressure9am      -0.087946     1.000000     0.967895 -0.157553 -0.141000   \n",
              "Pressure3pm      -0.010052     0.967895     1.000000 -0.128944 -0.143837   \n",
              "Cloud9am          0.551633    -0.157553    -0.128944  1.000000  0.525218   \n",
              "Cloud3pm          0.510108    -0.141000    -0.143837  0.525218  1.000000   \n",
              "Temp9am          -0.255681    -0.460418    -0.492636  0.021041  0.040945   \n",
              "Temp3pm          -0.581676    -0.253674    -0.345485 -0.202344 -0.172814   \n",
              "RISK_MM           0.358752    -0.290584    -0.311421  0.273914  0.326455   \n",
              "\n",
              "                Temp9am   Temp3pm   RISK_MM  \n",
              "MinTemp        0.916745  0.722730  0.218551  \n",
              "MaxTemp        0.870604  0.989261  0.027557  \n",
              "Rainfall       0.077299 -0.087493  0.089860  \n",
              "Evaporation    0.707676  0.671632  0.076762  \n",
              "Sunshine       0.219509  0.470447 -0.378823  \n",
              "WindGustSpeed  0.256223  0.072501  0.251991  \n",
              "WindSpeed9am   0.064074 -0.235186  0.039091  \n",
              "WindSpeed3pm  -0.017766 -0.187570 -0.009447  \n",
              "Humidity9am   -0.436551 -0.355119  0.165931  \n",
              "Humidity3pm   -0.255681 -0.581676  0.358752  \n",
              "Pressure9am   -0.460418 -0.253674 -0.290584  \n",
              "Pressure3pm   -0.492636 -0.345485 -0.311421  \n",
              "Cloud9am       0.021041 -0.202344  0.273914  \n",
              "Cloud3pm       0.040945 -0.172814  0.326455  \n",
              "Temp9am        1.000000  0.844406  0.164842  \n",
              "Temp3pm        0.844406  1.000000 -0.005825  \n",
              "RISK_MM        0.164842 -0.005825  1.000000  "
            ],
            "text/html": [
              "\n",
              "  <div id=\"df-cfe8f514-b969-4fe2-8bd5-7b8f14c11559\">\n",
              "    <div class=\"colab-df-container\">\n",
              "      <div>\n",
              "<style scoped>\n",
              "    .dataframe tbody tr th:only-of-type {\n",
              "        vertical-align: middle;\n",
              "    }\n",
              "\n",
              "    .dataframe tbody tr th {\n",
              "        vertical-align: top;\n",
              "    }\n",
              "\n",
              "    .dataframe thead th {\n",
              "        text-align: right;\n",
              "    }\n",
              "</style>\n",
              "<table border=\"1\" class=\"dataframe\">\n",
              "  <thead>\n",
              "    <tr style=\"text-align: right;\">\n",
              "      <th></th>\n",
              "      <th>MinTemp</th>\n",
              "      <th>MaxTemp</th>\n",
              "      <th>Rainfall</th>\n",
              "      <th>Evaporation</th>\n",
              "      <th>Sunshine</th>\n",
              "      <th>WindGustSpeed</th>\n",
              "      <th>WindSpeed9am</th>\n",
              "      <th>WindSpeed3pm</th>\n",
              "      <th>Humidity9am</th>\n",
              "      <th>Humidity3pm</th>\n",
              "      <th>Pressure9am</th>\n",
              "      <th>Pressure3pm</th>\n",
              "      <th>Cloud9am</th>\n",
              "      <th>Cloud3pm</th>\n",
              "      <th>Temp9am</th>\n",
              "      <th>Temp3pm</th>\n",
              "      <th>RISK_MM</th>\n",
              "    </tr>\n",
              "  </thead>\n",
              "  <tbody>\n",
              "    <tr>\n",
              "      <th>MinTemp</th>\n",
              "      <td>1.000000</td>\n",
              "      <td>0.752471</td>\n",
              "      <td>0.201939</td>\n",
              "      <td>0.649930</td>\n",
              "      <td>0.035711</td>\n",
              "      <td>0.218020</td>\n",
              "      <td>0.127542</td>\n",
              "      <td>-0.065922</td>\n",
              "      <td>-0.207897</td>\n",
              "      <td>-0.040709</td>\n",
              "      <td>-0.501707</td>\n",
              "      <td>-0.498007</td>\n",
              "      <td>0.215776</td>\n",
              "      <td>0.118397</td>\n",
              "      <td>0.916745</td>\n",
              "      <td>0.722730</td>\n",
              "      <td>0.218551</td>\n",
              "    </tr>\n",
              "    <tr>\n",
              "      <th>MaxTemp</th>\n",
              "      <td>0.752471</td>\n",
              "      <td>1.000000</td>\n",
              "      <td>-0.073560</td>\n",
              "      <td>0.690026</td>\n",
              "      <td>0.452064</td>\n",
              "      <td>0.109672</td>\n",
              "      <td>-0.216814</td>\n",
              "      <td>-0.167873</td>\n",
              "      <td>-0.359602</td>\n",
              "      <td>-0.533327</td>\n",
              "      <td>-0.290883</td>\n",
              "      <td>-0.379394</td>\n",
              "      <td>-0.175730</td>\n",
              "      <td>-0.135991</td>\n",
              "      <td>0.870604</td>\n",
              "      <td>0.989261</td>\n",
              "      <td>0.027557</td>\n",
              "    </tr>\n",
              "    <tr>\n",
              "      <th>Rainfall</th>\n",
              "      <td>0.201939</td>\n",
              "      <td>-0.073560</td>\n",
              "      <td>1.000000</td>\n",
              "      <td>-0.007293</td>\n",
              "      <td>-0.150990</td>\n",
              "      <td>0.096190</td>\n",
              "      <td>0.219637</td>\n",
              "      <td>0.056008</td>\n",
              "      <td>0.150109</td>\n",
              "      <td>0.289013</td>\n",
              "      <td>-0.331581</td>\n",
              "      <td>-0.250218</td>\n",
              "      <td>0.180046</td>\n",
              "      <td>0.127792</td>\n",
              "      <td>0.077299</td>\n",
              "      <td>-0.087493</td>\n",
              "      <td>0.089860</td>\n",
              "    </tr>\n",
              "    <tr>\n",
              "      <th>Evaporation</th>\n",
              "      <td>0.649930</td>\n",
              "      <td>0.690026</td>\n",
              "      <td>-0.007293</td>\n",
              "      <td>1.000000</td>\n",
              "      <td>0.318025</td>\n",
              "      <td>0.288477</td>\n",
              "      <td>0.068929</td>\n",
              "      <td>0.048601</td>\n",
              "      <td>-0.519587</td>\n",
              "      <td>-0.391780</td>\n",
              "      <td>-0.381906</td>\n",
              "      <td>-0.391093</td>\n",
              "      <td>-0.106007</td>\n",
              "      <td>-0.100045</td>\n",
              "      <td>0.707676</td>\n",
              "      <td>0.671632</td>\n",
              "      <td>0.076762</td>\n",
              "    </tr>\n",
              "    <tr>\n",
              "      <th>Sunshine</th>\n",
              "      <td>0.035711</td>\n",
              "      <td>0.452064</td>\n",
              "      <td>-0.150990</td>\n",
              "      <td>0.318025</td>\n",
              "      <td>1.000000</td>\n",
              "      <td>0.095843</td>\n",
              "      <td>-0.064522</td>\n",
              "      <td>0.072573</td>\n",
              "      <td>-0.499017</td>\n",
              "      <td>-0.759429</td>\n",
              "      <td>0.006276</td>\n",
              "      <td>-0.036201</td>\n",
              "      <td>-0.681092</td>\n",
              "      <td>-0.661131</td>\n",
              "      <td>0.219509</td>\n",
              "      <td>0.470447</td>\n",
              "      <td>-0.378823</td>\n",
              "    </tr>\n",
              "    <tr>\n",
              "      <th>WindGustSpeed</th>\n",
              "      <td>0.218020</td>\n",
              "      <td>0.109672</td>\n",
              "      <td>0.096190</td>\n",
              "      <td>0.288477</td>\n",
              "      <td>0.095843</td>\n",
              "      <td>1.000000</td>\n",
              "      <td>0.527653</td>\n",
              "      <td>0.693945</td>\n",
              "      <td>-0.349793</td>\n",
              "      <td>-0.069439</td>\n",
              "      <td>-0.540180</td>\n",
              "      <td>-0.526885</td>\n",
              "      <td>-0.012666</td>\n",
              "      <td>0.050230</td>\n",
              "      <td>0.256223</td>\n",
              "      <td>0.072501</td>\n",
              "      <td>0.251991</td>\n",
              "    </tr>\n",
              "    <tr>\n",
              "      <th>WindSpeed9am</th>\n",
              "      <td>0.127542</td>\n",
              "      <td>-0.216814</td>\n",
              "      <td>0.219637</td>\n",
              "      <td>0.068929</td>\n",
              "      <td>-0.064522</td>\n",
              "      <td>0.527653</td>\n",
              "      <td>1.000000</td>\n",
              "      <td>0.472966</td>\n",
              "      <td>-0.270623</td>\n",
              "      <td>0.146657</td>\n",
              "      <td>-0.356332</td>\n",
              "      <td>-0.247952</td>\n",
              "      <td>0.101842</td>\n",
              "      <td>-0.022471</td>\n",
              "      <td>0.064074</td>\n",
              "      <td>-0.235186</td>\n",
              "      <td>0.039091</td>\n",
              "    </tr>\n",
              "    <tr>\n",
              "      <th>WindSpeed3pm</th>\n",
              "      <td>-0.065922</td>\n",
              "      <td>-0.167873</td>\n",
              "      <td>0.056008</td>\n",
              "      <td>0.048601</td>\n",
              "      <td>0.072573</td>\n",
              "      <td>0.693945</td>\n",
              "      <td>0.472966</td>\n",
              "      <td>1.000000</td>\n",
              "      <td>-0.266092</td>\n",
              "      <td>-0.026368</td>\n",
              "      <td>-0.359800</td>\n",
              "      <td>-0.337325</td>\n",
              "      <td>-0.026426</td>\n",
              "      <td>0.007207</td>\n",
              "      <td>-0.017766</td>\n",
              "      <td>-0.187570</td>\n",
              "      <td>-0.009447</td>\n",
              "    </tr>\n",
              "    <tr>\n",
              "      <th>Humidity9am</th>\n",
              "      <td>-0.207897</td>\n",
              "      <td>-0.359602</td>\n",
              "      <td>0.150109</td>\n",
              "      <td>-0.519587</td>\n",
              "      <td>-0.499017</td>\n",
              "      <td>-0.349793</td>\n",
              "      <td>-0.270623</td>\n",
              "      <td>-0.266092</td>\n",
              "      <td>1.000000</td>\n",
              "      <td>0.546718</td>\n",
              "      <td>0.135727</td>\n",
              "      <td>0.134420</td>\n",
              "      <td>0.392842</td>\n",
              "      <td>0.271938</td>\n",
              "      <td>-0.436551</td>\n",
              "      <td>-0.355119</td>\n",
              "      <td>0.165931</td>\n",
              "    </tr>\n",
              "    <tr>\n",
              "      <th>Humidity3pm</th>\n",
              "      <td>-0.040709</td>\n",
              "      <td>-0.533327</td>\n",
              "      <td>0.289013</td>\n",
              "      <td>-0.391780</td>\n",
              "      <td>-0.759429</td>\n",
              "      <td>-0.069439</td>\n",
              "      <td>0.146657</td>\n",
              "      <td>-0.026368</td>\n",
              "      <td>0.546718</td>\n",
              "      <td>1.000000</td>\n",
              "      <td>-0.087946</td>\n",
              "      <td>-0.010052</td>\n",
              "      <td>0.551633</td>\n",
              "      <td>0.510108</td>\n",
              "      <td>-0.255681</td>\n",
              "      <td>-0.581676</td>\n",
              "      <td>0.358752</td>\n",
              "    </tr>\n",
              "    <tr>\n",
              "      <th>Pressure9am</th>\n",
              "      <td>-0.501707</td>\n",
              "      <td>-0.290883</td>\n",
              "      <td>-0.331581</td>\n",
              "      <td>-0.381906</td>\n",
              "      <td>0.006276</td>\n",
              "      <td>-0.540180</td>\n",
              "      <td>-0.356332</td>\n",
              "      <td>-0.359800</td>\n",
              "      <td>0.135727</td>\n",
              "      <td>-0.087946</td>\n",
              "      <td>1.000000</td>\n",
              "      <td>0.967895</td>\n",
              "      <td>-0.157553</td>\n",
              "      <td>-0.141000</td>\n",
              "      <td>-0.460418</td>\n",
              "      <td>-0.253674</td>\n",
              "      <td>-0.290584</td>\n",
              "    </tr>\n",
              "    <tr>\n",
              "      <th>Pressure3pm</th>\n",
              "      <td>-0.498007</td>\n",
              "      <td>-0.379394</td>\n",
              "      <td>-0.250218</td>\n",
              "      <td>-0.391093</td>\n",
              "      <td>-0.036201</td>\n",
              "      <td>-0.526885</td>\n",
              "      <td>-0.247952</td>\n",
              "      <td>-0.337325</td>\n",
              "      <td>0.134420</td>\n",
              "      <td>-0.010052</td>\n",
              "      <td>0.967895</td>\n",
              "      <td>1.000000</td>\n",
              "      <td>-0.128944</td>\n",
              "      <td>-0.143837</td>\n",
              "      <td>-0.492636</td>\n",
              "      <td>-0.345485</td>\n",
              "      <td>-0.311421</td>\n",
              "    </tr>\n",
              "    <tr>\n",
              "      <th>Cloud9am</th>\n",
              "      <td>0.215776</td>\n",
              "      <td>-0.175730</td>\n",
              "      <td>0.180046</td>\n",
              "      <td>-0.106007</td>\n",
              "      <td>-0.681092</td>\n",
              "      <td>-0.012666</td>\n",
              "      <td>0.101842</td>\n",
              "      <td>-0.026426</td>\n",
              "      <td>0.392842</td>\n",
              "      <td>0.551633</td>\n",
              "      <td>-0.157553</td>\n",
              "      <td>-0.128944</td>\n",
              "      <td>1.000000</td>\n",
              "      <td>0.525218</td>\n",
              "      <td>0.021041</td>\n",
              "      <td>-0.202344</td>\n",
              "      <td>0.273914</td>\n",
              "    </tr>\n",
              "    <tr>\n",
              "      <th>Cloud3pm</th>\n",
              "      <td>0.118397</td>\n",
              "      <td>-0.135991</td>\n",
              "      <td>0.127792</td>\n",
              "      <td>-0.100045</td>\n",
              "      <td>-0.661131</td>\n",
              "      <td>0.050230</td>\n",
              "      <td>-0.022471</td>\n",
              "      <td>0.007207</td>\n",
              "      <td>0.271938</td>\n",
              "      <td>0.510108</td>\n",
              "      <td>-0.141000</td>\n",
              "      <td>-0.143837</td>\n",
              "      <td>0.525218</td>\n",
              "      <td>1.000000</td>\n",
              "      <td>0.040945</td>\n",
              "      <td>-0.172814</td>\n",
              "      <td>0.326455</td>\n",
              "    </tr>\n",
              "    <tr>\n",
              "      <th>Temp9am</th>\n",
              "      <td>0.916745</td>\n",
              "      <td>0.870604</td>\n",
              "      <td>0.077299</td>\n",
              "      <td>0.707676</td>\n",
              "      <td>0.219509</td>\n",
              "      <td>0.256223</td>\n",
              "      <td>0.064074</td>\n",
              "      <td>-0.017766</td>\n",
              "      <td>-0.436551</td>\n",
              "      <td>-0.255681</td>\n",
              "      <td>-0.460418</td>\n",
              "      <td>-0.492636</td>\n",
              "      <td>0.021041</td>\n",
              "      <td>0.040945</td>\n",
              "      <td>1.000000</td>\n",
              "      <td>0.844406</td>\n",
              "      <td>0.164842</td>\n",
              "    </tr>\n",
              "    <tr>\n",
              "      <th>Temp3pm</th>\n",
              "      <td>0.722730</td>\n",
              "      <td>0.989261</td>\n",
              "      <td>-0.087493</td>\n",
              "      <td>0.671632</td>\n",
              "      <td>0.470447</td>\n",
              "      <td>0.072501</td>\n",
              "      <td>-0.235186</td>\n",
              "      <td>-0.187570</td>\n",
              "      <td>-0.355119</td>\n",
              "      <td>-0.581676</td>\n",
              "      <td>-0.253674</td>\n",
              "      <td>-0.345485</td>\n",
              "      <td>-0.202344</td>\n",
              "      <td>-0.172814</td>\n",
              "      <td>0.844406</td>\n",
              "      <td>1.000000</td>\n",
              "      <td>-0.005825</td>\n",
              "    </tr>\n",
              "    <tr>\n",
              "      <th>RISK_MM</th>\n",
              "      <td>0.218551</td>\n",
              "      <td>0.027557</td>\n",
              "      <td>0.089860</td>\n",
              "      <td>0.076762</td>\n",
              "      <td>-0.378823</td>\n",
              "      <td>0.251991</td>\n",
              "      <td>0.039091</td>\n",
              "      <td>-0.009447</td>\n",
              "      <td>0.165931</td>\n",
              "      <td>0.358752</td>\n",
              "      <td>-0.290584</td>\n",
              "      <td>-0.311421</td>\n",
              "      <td>0.273914</td>\n",
              "      <td>0.326455</td>\n",
              "      <td>0.164842</td>\n",
              "      <td>-0.005825</td>\n",
              "      <td>1.000000</td>\n",
              "    </tr>\n",
              "  </tbody>\n",
              "</table>\n",
              "</div>\n",
              "      <button class=\"colab-df-convert\" onclick=\"convertToInteractive('df-cfe8f514-b969-4fe2-8bd5-7b8f14c11559')\"\n",
              "              title=\"Convert this dataframe to an interactive table.\"\n",
              "              style=\"display:none;\">\n",
              "        \n",
              "  <svg xmlns=\"http://www.w3.org/2000/svg\" height=\"24px\"viewBox=\"0 0 24 24\"\n",
              "       width=\"24px\">\n",
              "    <path d=\"M0 0h24v24H0V0z\" fill=\"none\"/>\n",
              "    <path d=\"M18.56 5.44l.94 2.06.94-2.06 2.06-.94-2.06-.94-.94-2.06-.94 2.06-2.06.94zm-11 1L8.5 8.5l.94-2.06 2.06-.94-2.06-.94L8.5 2.5l-.94 2.06-2.06.94zm10 10l.94 2.06.94-2.06 2.06-.94-2.06-.94-.94-2.06-.94 2.06-2.06.94z\"/><path d=\"M17.41 7.96l-1.37-1.37c-.4-.4-.92-.59-1.43-.59-.52 0-1.04.2-1.43.59L10.3 9.45l-7.72 7.72c-.78.78-.78 2.05 0 2.83L4 21.41c.39.39.9.59 1.41.59.51 0 1.02-.2 1.41-.59l7.78-7.78 2.81-2.81c.8-.78.8-2.07 0-2.86zM5.41 20L4 18.59l7.72-7.72 1.47 1.35L5.41 20z\"/>\n",
              "  </svg>\n",
              "      </button>\n",
              "      \n",
              "  <style>\n",
              "    .colab-df-container {\n",
              "      display:flex;\n",
              "      flex-wrap:wrap;\n",
              "      gap: 12px;\n",
              "    }\n",
              "\n",
              "    .colab-df-convert {\n",
              "      background-color: #E8F0FE;\n",
              "      border: none;\n",
              "      border-radius: 50%;\n",
              "      cursor: pointer;\n",
              "      display: none;\n",
              "      fill: #1967D2;\n",
              "      height: 32px;\n",
              "      padding: 0 0 0 0;\n",
              "      width: 32px;\n",
              "    }\n",
              "\n",
              "    .colab-df-convert:hover {\n",
              "      background-color: #E2EBFA;\n",
              "      box-shadow: 0px 1px 2px rgba(60, 64, 67, 0.3), 0px 1px 3px 1px rgba(60, 64, 67, 0.15);\n",
              "      fill: #174EA6;\n",
              "    }\n",
              "\n",
              "    [theme=dark] .colab-df-convert {\n",
              "      background-color: #3B4455;\n",
              "      fill: #D2E3FC;\n",
              "    }\n",
              "\n",
              "    [theme=dark] .colab-df-convert:hover {\n",
              "      background-color: #434B5C;\n",
              "      box-shadow: 0px 1px 3px 1px rgba(0, 0, 0, 0.15);\n",
              "      filter: drop-shadow(0px 1px 2px rgba(0, 0, 0, 0.3));\n",
              "      fill: #FFFFFF;\n",
              "    }\n",
              "  </style>\n",
              "\n",
              "      <script>\n",
              "        const buttonEl =\n",
              "          document.querySelector('#df-cfe8f514-b969-4fe2-8bd5-7b8f14c11559 button.colab-df-convert');\n",
              "        buttonEl.style.display =\n",
              "          google.colab.kernel.accessAllowed ? 'block' : 'none';\n",
              "\n",
              "        async function convertToInteractive(key) {\n",
              "          const element = document.querySelector('#df-cfe8f514-b969-4fe2-8bd5-7b8f14c11559');\n",
              "          const dataTable =\n",
              "            await google.colab.kernel.invokeFunction('convertToInteractive',\n",
              "                                                     [key], {});\n",
              "          if (!dataTable) return;\n",
              "\n",
              "          const docLinkHtml = 'Like what you see? Visit the ' +\n",
              "            '<a target=\"_blank\" href=https://colab.research.google.com/notebooks/data_table.ipynb>data table notebook</a>'\n",
              "            + ' to learn more about interactive tables.';\n",
              "          element.innerHTML = '';\n",
              "          dataTable['output_type'] = 'display_data';\n",
              "          await google.colab.output.renderOutput(dataTable, element);\n",
              "          const docLink = document.createElement('div');\n",
              "          docLink.innerHTML = docLinkHtml;\n",
              "          element.appendChild(docLink);\n",
              "        }\n",
              "      </script>\n",
              "    </div>\n",
              "  </div>\n",
              "  "
            ]
          },
          "metadata": {},
          "execution_count": 19
        }
      ]
    },
    {
      "cell_type": "code",
      "source": [
        "data.boxplot()"
      ],
      "metadata": {
        "colab": {
          "base_uri": "https://localhost:8080/",
          "height": 338
        },
        "id": "SmILNHeumjPd",
        "outputId": "f90ba270-8107-4cb5-b994-25724ae86988"
      },
      "execution_count": 23,
      "outputs": [
        {
          "output_type": "stream",
          "name": "stderr",
          "text": [
            "/usr/local/lib/python3.7/dist-packages/matplotlib/cbook/__init__.py:1376: VisibleDeprecationWarning: Creating an ndarray from ragged nested sequences (which is a list-or-tuple of lists-or-tuples-or ndarrays with different lengths or shapes) is deprecated. If you meant to do this, you must specify 'dtype=object' when creating the ndarray.\n",
            "  X = np.atleast_1d(X.T if isinstance(X, np.ndarray) else np.asarray(X))\n"
          ]
        },
        {
          "output_type": "execute_result",
          "data": {
            "text/plain": [
              "<matplotlib.axes._subplots.AxesSubplot at 0x7f08a3b1bb10>"
            ]
          },
          "metadata": {},
          "execution_count": 23
        },
        {
          "output_type": "display_data",
          "data": {
            "text/plain": [
              "<Figure size 432x288 with 1 Axes>"
            ],
            "image/png": "[encoded data removed]"
          },
          "metadata": {
            "needs_background": "light"
          }
        }
      ]
    },
    {
      "cell_type": "code",
      "source": [
        "sns.jointplot(data['MinTemp'],data['Rainfall'])"
      ],
      "metadata": {
        "colab": {
          "base_uri": "https://localhost:8080/",
          "height": 513
        },
        "id": "WGxyD7MdmmmK",
        "outputId": "61bfb8ef-811e-4cce-c52d-dc39f2616ab1"
      },
      "execution_count": 24,
      "outputs": [
        {
          "output_type": "stream",
          "name": "stderr",
          "text": [
            "/usr/local/lib/python3.7/dist-packages/seaborn/_decorators.py:43: FutureWarning: Pass the following variables as keyword args: x, y. From version 0.12, the only valid positional argument will be `data`, and passing other arguments without an explicit keyword will result in an error or misinterpretation.\n",
            "  FutureWarning\n"
          ]
        },
        {
          "output_type": "execute_result",
          "data": {
            "text/plain": [
              "<seaborn.axisgrid.JointGrid at 0x7f08a3e392d0>"
            ]
          },
          "metadata": {},
          "execution_count": 24
        },
        {
          "output_type": "display_data",
          "data": {
            "text/plain": [
              "<Figure size 432x432 with 3 Axes>"
            ],
            "image/png": "[encoded data removed]"
          },
          "metadata": {
            "needs_background": "light"
          }
        }
      ]
    },
    {
      "cell_type": "code",
      "source": [
        "sns.jointplot(data['MinTemp'],data['Rainfall'],hue=data['RainTomorrow'])"
      ],
      "metadata": {
        "colab": {
          "base_uri": "https://localhost:8080/",
          "height": 513
        },
        "id": "72n_49_dmrnG",
        "outputId": "5a5002cb-e805-496e-dac0-bfc2a7033474"
      },
      "execution_count": 25,
      "outputs": [
        {
          "output_type": "stream",
          "name": "stderr",
          "text": [
            "/usr/local/lib/python3.7/dist-packages/seaborn/_decorators.py:43: FutureWarning: Pass the following variables as keyword args: x, y. From version 0.12, the only valid positional argument will be `data`, and passing other arguments without an explicit keyword will result in an error or misinterpretation.\n",
            "  FutureWarning\n"
          ]
        },
        {
          "output_type": "execute_result",
          "data": {
            "text/plain": [
              "<seaborn.axisgrid.JointGrid at 0x7f08a2fee2d0>"
            ]
          },
          "metadata": {},
          "execution_count": 25
        },
        {
          "output_type": "display_data",
          "data": {
            "text/plain": [
              "<Figure size 432x432 with 3 Axes>"
            ],
            "image/png": "[encoded data removed]"
          },
          "metadata": {
            "needs_background": "light"
          }
        }
      ]
    },
    {
      "cell_type": "code",
      "source": [
        "sns.histplot(data['RainTomorrow'])"
      ],
      "metadata": {
        "colab": {
          "base_uri": "https://localhost:8080/",
          "height": 296
        },
        "id": "qmXfCzhzmvg7",
        "outputId": "4d782668-d9d5-4184-8f38-b64955517908"
      },
      "execution_count": 26,
      "outputs": [
        {
          "output_type": "execute_result",
          "data": {
            "text/plain": [
              "<matplotlib.axes._subplots.AxesSubplot at 0x7f08a2dee5d0>"
            ]
          },
          "metadata": {},
          "execution_count": 26
        },
        {
          "output_type": "display_data",
          "data": {
            "text/plain": [
              "<Figure size 432x288 with 1 Axes>"
            ],
            "image/png": "[encoded data removed]"
          },
          "metadata": {
            "needs_background": "light"
          }
        }
      ]
    },
    {
      "cell_type": "code",
      "source": [
        "sns.scatterplot(data['MaxTemp'],data['Rainfall'])"
      ],
      "metadata": {
        "colab": {
          "base_uri": "https://localhost:8080/",
          "height": 351
        },
        "id": "2x3T_EPzmzYD",
        "outputId": "cf6cc52b-dc6e-40cc-d6d1-e243566279c3"
      },
      "execution_count": 27,
      "outputs": [
        {
          "output_type": "stream",
          "name": "stderr",
          "text": [
            "/usr/local/lib/python3.7/dist-packages/seaborn/_decorators.py:43: FutureWarning: Pass the following variables as keyword args: x, y. From version 0.12, the only valid positional argument will be `data`, and passing other arguments without an explicit keyword will result in an error or misinterpretation.\n",
            "  FutureWarning\n"
          ]
        },
        {
          "output_type": "execute_result",
          "data": {
            "text/plain": [
              "<matplotlib.axes._subplots.AxesSubplot at 0x7f08a2d3c050>"
            ]
          },
          "metadata": {},
          "execution_count": 27
        },
        {
          "output_type": "display_data",
          "data": {
            "text/plain": [
              "<Figure size 432x288 with 1 Axes>"
            ],
            "image/png": "[encoded data removed]"
          },
          "metadata": {
            "needs_background": "light"
          }
        }
      ]
    },
    {
      "cell_type": "code",
      "source": [
        "sns.displot(data['MinTemp'])"
      ],
      "metadata": {
        "colab": {
          "base_uri": "https://localhost:8080/",
          "height": 386
        },
        "id": "PO8bO_qCm3vK",
        "outputId": "a52a8eb6-ff53-4d9a-c7e9-c8b7449ca505"
      },
      "execution_count": 28,
      "outputs": [
        {
          "output_type": "execute_result",
          "data": {
            "text/plain": [
              "<seaborn.axisgrid.FacetGrid at 0x7f08a2e16d10>"
            ]
          },
          "metadata": {},
          "execution_count": 28
        },
        {
          "output_type": "display_data",
          "data": {
            "text/plain": [
              "<Figure size 360x360 with 1 Axes>"
            ],
            "image/png": "[encoded data removed]"
          },
          "metadata": {
            "needs_background": "light"
          }
        }
      ]
    },
    {
      "cell_type": "code",
      "source": [
        "y=data['RainTomorrow']\n",
        "x=data.drop('RainTomorrow',axis=1)\n",
        "print(\" X-values:\")\n",
        "print(x)\n",
        "print(\"Y-values:\")\n",
        "print(y)"
      ],
      "metadata": {
        "colab": {
          "base_uri": "https://localhost:8080/"
        },
        "id": "B3ez8BEYm7Sb",
        "outputId": "8d45d5e3-88f7-4937-c69c-4c5566fa4af2"
      },
      "execution_count": 29,
      "outputs": [
        {
          "output_type": "stream",
          "name": "stdout",
          "text": [
            " X-values:\n",
            "     MinTemp  MaxTemp  Rainfall  Evaporation  Sunshine  WindGustSpeed  \\\n",
            "0        8.0     24.3       0.0          3.4       6.3           30.0   \n",
            "1       14.0     26.9       3.6          4.4       9.7           39.0   \n",
            "2       13.7     23.4       3.6          5.8       3.3           85.0   \n",
            "3       13.3     15.5      39.8          7.2       9.1           54.0   \n",
            "4        7.6     16.1       2.8          5.6      10.6           50.0   \n",
            "..       ...      ...       ...          ...       ...            ...   \n",
            "361      9.0     30.7       0.0          7.6      12.1           76.0   \n",
            "362      7.1     28.4       0.0         11.6      12.7           48.0   \n",
            "363     12.5     19.9       0.0          8.4       5.3           43.0   \n",
            "364     12.5     26.9       0.0          5.0       7.1           46.0   \n",
            "365     12.3     30.2       0.0          6.0      12.6           78.0   \n",
            "\n",
            "     WindSpeed9am  WindSpeed3pm  Humidity9am  Humidity3pm  Pressure9am  \\\n",
            "0             6.0            20           68           29       1019.7   \n",
            "1             4.0            17           80           36       1012.4   \n",
            "2             6.0             6           82           69       1009.5   \n",
            "3            30.0            24           62           56       1005.5   \n",
            "4            20.0            28           68           49       1018.3   \n",
            "..            ...           ...          ...          ...          ...   \n",
            "361           7.0            50           38           15       1016.1   \n",
            "362           2.0            19           45           22       1020.0   \n",
            "363          11.0             9           63           47       1024.0   \n",
            "364           6.0            28           69           39       1021.0   \n",
            "365          31.0            35           43           13       1009.6   \n",
            "\n",
            "     Pressure3pm  Cloud9am  Cloud3pm  Temp9am  Temp3pm  RISK_MM  \n",
            "0         1015.0         7         7     14.4     23.6      3.6  \n",
            "1         1008.4         5         3     17.5     25.7      3.6  \n",
            "2         1007.2         8         7     15.4     20.2     39.8  \n",
            "3         1007.0         2         7     13.5     14.1      2.8  \n",
            "4         1018.5         7         7     11.1     15.4      0.0  \n",
            "..           ...       ...       ...      ...      ...      ...  \n",
            "361       1010.8         1         3     20.4     30.0      0.0  \n",
            "362       1016.9         0         1     17.2     28.2      0.0  \n",
            "363       1022.8         3         2     14.5     18.3      0.0  \n",
            "364       1016.2         6         7     15.8     25.9      0.0  \n",
            "365       1009.2         1         1     23.8     28.6      0.0  \n",
            "\n",
            "[366 rows x 17 columns]\n",
            "Y-values:\n",
            "0      Yes\n",
            "1      Yes\n",
            "2      Yes\n",
            "3      Yes\n",
            "4       No\n",
            "      ... \n",
            "361     No\n",
            "362     No\n",
            "363     No\n",
            "364     No\n",
            "365     No\n",
            "Name: RainTomorrow, Length: 366, dtype: object\n"
          ]
        }
      ]
    },
    {
      "cell_type": "code",
      "source": [
        "x_train,x_test,y_train,y_test=model_selection.train_test_split(x,y, test_size=0.2, random_state =0)\n",
        "print(\"Train set:\")\n",
        "print(x_train,y_train)\n",
        "print(\"Test set:\")\n",
        "print(x_test,y_test)"
      ],
      "metadata": {
        "colab": {
          "base_uri": "https://localhost:8080/"
        },
        "id": "ST9ISL_PnWwP",
        "outputId": "48eda002-ec2d-498c-a53f-6794e0a56e15"
      },
      "execution_count": 33,
      "outputs": [
        {
          "output_type": "stream",
          "name": "stdout",
          "text": [
            "Train set:\n",
            "[[ 1.43487111  0.42651837 -0.33848522 ...  1.21667552  0.46282635\n",
            "  -0.33848522]\n",
            " [-1.00797857 -0.68103902 -0.33848522 ... -1.0418513  -0.69833916\n",
            "  -0.33848522]\n",
            " [-1.19077684 -0.57627007 -0.33848522 ... -0.5972594  -0.65309895\n",
            "  -0.33848522]\n",
            " ...\n",
            " [ 0.95294839  1.14493397 -0.33848522 ...  0.89656936  1.17158971\n",
            "  -0.33848522]\n",
            " [ 0.03895701  0.05234358 -0.33848522 ...  0.52311217  0.08582456\n",
            "  -0.33848522]\n",
            " [-0.80856227  0.0074426  -0.33848522 ... -0.31272059  0.08582456\n",
            "  -0.33848522]] 63      No\n",
            "241     No\n",
            "306     No\n",
            "317    Yes\n",
            "245     No\n",
            "      ... \n",
            "323     No\n",
            "192     No\n",
            "117     No\n",
            "47      No\n",
            "172     No\n",
            "Name: RainTomorrow, Length: 292, dtype: object\n",
            "Test set:\n",
            "[[ 0.58735184  0.69592422 -0.33848522 ...  0.46976114  0.76442778\n",
            "  -0.33848522]\n",
            " [-1.50651932 -1.35455364 -0.33848522 ... -1.96660243 -1.24122174\n",
            "  -0.33848522]\n",
            " [ 1.36839901  0.08227756  0.94112876 ...  0.75429995  0.1159847\n",
            "  -0.00673345]\n",
            " ...\n",
            " [ 0.18851924 -0.66607202 -0.33848522 ...  0.22078968 -0.60785873\n",
            "  -0.33848522]\n",
            " [ 0.90309431  0.68095723 -0.33848522 ...  0.59424687  0.79458792\n",
            "  -0.33848522]\n",
            " [-1.30710302 -1.2497847  -0.33848522 ... -0.97071659 -1.28646195\n",
            "  -0.33848522]] 106     No\n",
            "259     No\n",
            "45     Yes\n",
            "26      No\n",
            "78     Yes\n",
            "      ... \n",
            "159     No\n",
            "74      No\n",
            "170     No\n",
            "114     No\n",
            "295     No\n",
            "Name: RainTomorrow, Length: 74, dtype: object\n"
          ]
        }
      ]
    },
    {
      "cell_type": "code",
      "source": [
        "import sklearn\n",
        "XGBoost = xgboost.XGBRFClassifier()\n",
        "Rand_forest = sklearn.ensemble. RandomForestClassifier()\n",
        "svm=sklearn.svm.SVC()\n",
        "Dtree=sklearn.tree. DecisionTreeClassifier()\n",
        "GBM = sklearn.ensemble. GradientBoostingClassifier()\n",
        "log=sklearn.linear_model.LogisticRegression()"
      ],
      "metadata": {
        "id": "RqW2L3FlnbW7"
      },
      "execution_count": 34,
      "outputs": []
    }
  ]
}